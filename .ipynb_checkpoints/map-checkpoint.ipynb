{
 "cells": [
  {
   "cell_type": "code",
   "execution_count": 1,
   "metadata": {},
   "outputs": [],
   "source": [
    "import geopandas as gpd\n",
    "import pandas as pd\n",
    "import numpy as np\n",
    "import matplotlib.pyplot as plt\n",
    "import seaborn as sns"
   ]
  },
  {
   "cell_type": "code",
   "execution_count": 2,
   "metadata": {},
   "outputs": [],
   "source": [
    "path = \"municipalities/oria_dhmwn_kallikraths.shp\"\n",
    "\n",
    "gdf = gpd.read_file(path, encoding = \"iso 8859-7\")"
   ]
  },
  {
   "cell_type": "code",
   "execution_count": 3,
   "metadata": {},
   "outputs": [
    {
     "data": {
      "text/html": [
       "<div>\n",
       "<style scoped>\n",
       "    .dataframe tbody tr th:only-of-type {\n",
       "        vertical-align: middle;\n",
       "    }\n",
       "\n",
       "    .dataframe tbody tr th {\n",
       "        vertical-align: top;\n",
       "    }\n",
       "\n",
       "    .dataframe thead th {\n",
       "        text-align: right;\n",
       "    }\n",
       "</style>\n",
       "<table border=\"1\" class=\"dataframe\">\n",
       "  <thead>\n",
       "    <tr style=\"text-align: right;\">\n",
       "      <th></th>\n",
       "      <th>NAME</th>\n",
       "      <th>KWD_YPES</th>\n",
       "      <th>geometry</th>\n",
       "    </tr>\n",
       "  </thead>\n",
       "  <tbody>\n",
       "    <tr>\n",
       "      <th>0</th>\n",
       "      <td>Αμυνταίου</td>\n",
       "      <td>9070</td>\n",
       "      <td>POLYGON ((306603.594 4524540.000, 306778.813 4...</td>\n",
       "    </tr>\n",
       "    <tr>\n",
       "      <th>1</th>\n",
       "      <td>Άθως</td>\n",
       "      <td>None</td>\n",
       "      <td>MULTIPOLYGON (((521237.594 4461202.000, 521222...</td>\n",
       "    </tr>\n",
       "    <tr>\n",
       "      <th>2</th>\n",
       "      <td>Άκτιου - Βόνιτσας</td>\n",
       "      <td>9124</td>\n",
       "      <td>MULTIPOLYGON (((221292.406 4294039.000, 221292...</td>\n",
       "    </tr>\n",
       "    <tr>\n",
       "      <th>3</th>\n",
       "      <td>Άνδρου</td>\n",
       "      <td>9268</td>\n",
       "      <td>MULTIPOLYGON (((584417.125 4171609.000, 584399...</td>\n",
       "    </tr>\n",
       "    <tr>\n",
       "      <th>4</th>\n",
       "      <td>Άργους - Μυκηνών</td>\n",
       "      <td>9233</td>\n",
       "      <td>POLYGON ((369695.313 4188647.000, 369719.312 4...</td>\n",
       "    </tr>\n",
       "    <tr>\n",
       "      <th>...</th>\n",
       "      <td>...</td>\n",
       "      <td>...</td>\n",
       "      <td>...</td>\n",
       "    </tr>\n",
       "    <tr>\n",
       "      <th>321</th>\n",
       "      <td>Ψαρών</td>\n",
       "      <td>9267</td>\n",
       "      <td>MULTIPOLYGON (((629706.812 4265487.000, 629682...</td>\n",
       "    </tr>\n",
       "    <tr>\n",
       "      <th>322</th>\n",
       "      <td>Ωραιοκάστρου</td>\n",
       "      <td>9039</td>\n",
       "      <td>MULTIPOLYGON (((399013.187 4506369.000, 399465...</td>\n",
       "    </tr>\n",
       "    <tr>\n",
       "      <th>323</th>\n",
       "      <td>Ωρωπού</td>\n",
       "      <td>9227</td>\n",
       "      <td>POLYGON ((476342.812 4242735.000, 476352.906 4...</td>\n",
       "    </tr>\n",
       "    <tr>\n",
       "      <th>324</th>\n",
       "      <td>Κιμώλου</td>\n",
       "      <td>9286</td>\n",
       "      <td>MULTIPOLYGON (((557462.687 4066104.000, 557442...</td>\n",
       "    </tr>\n",
       "    <tr>\n",
       "      <th>325</th>\n",
       "      <td>Τήνου</td>\n",
       "      <td>9301</td>\n",
       "      <td>MULTIPOLYGON (((590687.000 4163329.000, 590698...</td>\n",
       "    </tr>\n",
       "  </tbody>\n",
       "</table>\n",
       "<p>326 rows × 3 columns</p>\n",
       "</div>"
      ],
      "text/plain": [
       "                  NAME KWD_YPES  \\\n",
       "0            Αμυνταίου     9070   \n",
       "1                 Άθως     None   \n",
       "2    Άκτιου - Βόνιτσας     9124   \n",
       "3               Άνδρου     9268   \n",
       "4     Άργους - Μυκηνών     9233   \n",
       "..                 ...      ...   \n",
       "321              Ψαρών     9267   \n",
       "322       Ωραιοκάστρου     9039   \n",
       "323             Ωρωπού     9227   \n",
       "324            Κιμώλου     9286   \n",
       "325              Τήνου     9301   \n",
       "\n",
       "                                              geometry  \n",
       "0    POLYGON ((306603.594 4524540.000, 306778.813 4...  \n",
       "1    MULTIPOLYGON (((521237.594 4461202.000, 521222...  \n",
       "2    MULTIPOLYGON (((221292.406 4294039.000, 221292...  \n",
       "3    MULTIPOLYGON (((584417.125 4171609.000, 584399...  \n",
       "4    POLYGON ((369695.313 4188647.000, 369719.312 4...  \n",
       "..                                                 ...  \n",
       "321  MULTIPOLYGON (((629706.812 4265487.000, 629682...  \n",
       "322  MULTIPOLYGON (((399013.187 4506369.000, 399465...  \n",
       "323  POLYGON ((476342.812 4242735.000, 476352.906 4...  \n",
       "324  MULTIPOLYGON (((557462.687 4066104.000, 557442...  \n",
       "325  MULTIPOLYGON (((590687.000 4163329.000, 590698...  \n",
       "\n",
       "[326 rows x 3 columns]"
      ]
     },
     "execution_count": 3,
     "metadata": {},
     "output_type": "execute_result"
    }
   ],
   "source": [
    "gdf"
   ]
  },
  {
   "cell_type": "code",
   "execution_count": 21,
   "metadata": {},
   "outputs": [
    {
     "data": {
      "text/plain": [
       "False"
      ]
     },
     "execution_count": 21,
     "metadata": {},
     "output_type": "execute_result"
    }
   ],
   "source": [
    "\"Τήνου\" in gdf[\"NAME\"]"
   ]
  },
  {
   "cell_type": "code",
   "execution_count": null,
   "metadata": {},
   "outputs": [],
   "source": []
  }
 ],
 "metadata": {
  "kernelspec": {
   "display_name": "Python 3",
   "language": "python",
   "name": "python3"
  },
  "language_info": {
   "codemirror_mode": {
    "name": "ipython",
    "version": 3
   },
   "file_extension": ".py",
   "mimetype": "text/x-python",
   "name": "python",
   "nbconvert_exporter": "python",
   "pygments_lexer": "ipython3",
   "version": "3.7.4"
  }
 },
 "nbformat": 4,
 "nbformat_minor": 4
}
